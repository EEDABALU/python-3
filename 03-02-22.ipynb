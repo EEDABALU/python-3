{
 "cells": [
  {
   "cell_type": "markdown",
   "id": "5724c112",
   "metadata": {},
   "source": [
    "###  while\n",
    "- it executes block or set of instructions until the conditions\n",
    "- while we dont the range\n",
    "- execute faster than the for loop\n",
    "- user incrementation"
   ]
  },
  {
   "cell_type": "markdown",
   "id": "5614f0e5",
   "metadata": {},
   "source": [
    "# while syntax\n",
    "- initialiization\n",
    "- while condition\n",
    "- statements\n",
    "- increment/decrement"
   ]
  },
  {
   "cell_type": "code",
   "execution_count": 1,
   "id": "ad760852",
   "metadata": {},
   "outputs": [
    {
     "name": "stdout",
     "output_type": "stream",
     "text": [
      "vasavi college\n",
      "vasavi college\n",
      "vasavi college\n",
      "vasavi college\n",
      "vasavi college\n"
     ]
    }
   ],
   "source": [
    "n=1\n",
    "while n<=5:\n",
    "    print(\"vasavi college\")\n",
    "    n=n+1"
   ]
  },
  {
   "cell_type": "code",
   "execution_count": 1,
   "id": "becaca62",
   "metadata": {},
   "outputs": [
    {
     "name": "stdout",
     "output_type": "stream",
     "text": [
      "10 9 8 7 6 5 4 3 2 1 "
     ]
    }
   ],
   "source": [
    "n=10\n",
    "while n>=1:\n",
    "    print(n,end=\" \")\n",
    "    n=n-1"
   ]
  },
  {
   "cell_type": "code",
   "execution_count": 2,
   "id": "14afad32",
   "metadata": {},
   "outputs": [
    {
     "name": "stdout",
     "output_type": "stream",
     "text": [
      "123456789\n",
      "/ndigit count: 9\n"
     ]
    }
   ],
   "source": [
    "# i/p 1234\n",
    "# o/p digit count:4\n",
    "s=int(input())\n",
    "c=0\n",
    "while(s!=0): #1234!=0 12!=0 1!=0\n",
    "    c=c+1    #1234%10  123%10\n",
    "    s=s//10\n",
    "print(\"/ndigit count:\",c)    "
   ]
  },
  {
   "cell_type": "code",
   "execution_count": 3,
   "id": "1c9abc2d",
   "metadata": {},
   "outputs": [
    {
     "name": "stdout",
     "output_type": "stream",
     "text": [
      "1243565\n",
      "/ndigit count: 7\n"
     ]
    }
   ],
   "source": [
    "# i/p 1234\n",
    "# o/p digit count:4\n",
    "s=int(input())\n",
    "c=0\n",
    "while(s!=0): #1234!=0 123!=0  12!=0 1!=0\n",
    "    c=c+1    #1234%10=4  123%10=3 12%10=2\n",
    "    s=s//10\n",
    "print(\"/ndigit count:\",c)    "
   ]
  },
  {
   "cell_type": "code",
   "execution_count": 14,
   "id": "616cb39b",
   "metadata": {},
   "outputs": [
    {
     "name": "stdout",
     "output_type": "stream",
     "text": [
      "1002001\n",
      "palindrome\n"
     ]
    }
   ],
   "source": [
    "# check the given is palindrome or not\n",
    "# 121--121\n",
    "# mom-mom\n",
    "n=int(input())\n",
    "temp=n\n",
    "rev=0\n",
    "while(n!=0):\n",
    "    rem=n%10\n",
    "    rev=rev*10+rem\n",
    "    n=n//10\n",
    "if(temp==rev):\n",
    "    print(\"palindrome\")\n",
    "else:\n",
    "    print(\"not a palindrome\")"
   ]
  },
  {
   "cell_type": "code",
   "execution_count": null,
   "id": "13b1ff69",
   "metadata": {},
   "outputs": [],
   "source": []
  },
  {
   "cell_type": "code",
   "execution_count": null,
   "id": "fc6b851c",
   "metadata": {},
   "outputs": [],
   "source": [
    "# syntax::nested for loop\n",
    "for iter in range(start,end,step):\n",
    "    for iter in range(start,end,step):\n",
    "        statement1\n",
    "        statementn"
   ]
  },
  {
   "cell_type": "markdown",
   "id": "15fcd5ce",
   "metadata": {},
   "source": [
    "# matrix format\n",
    "- rows,columns\n",
    "- 2dimensions\n",
    "    1 2 3\n",
    "    1 2 3"
   ]
  },
  {
   "cell_type": "code",
   "execution_count": 15,
   "id": "8f34bf90",
   "metadata": {},
   "outputs": [
    {
     "name": "stdout",
     "output_type": "stream",
     "text": [
      "1 1 1 1 \n",
      "2 2 2 2 \n",
      "3 3 3 3 \n",
      "4 4 4 4 \n"
     ]
    }
   ],
   "source": [
    "for row in range(1,5):\n",
    "    for column in range(1,5):\n",
    "        print(row,end=\" \")\n",
    "    print()# new line    "
   ]
  },
  {
   "cell_type": "code",
   "execution_count": 16,
   "id": "875f781d",
   "metadata": {},
   "outputs": [
    {
     "name": "stdout",
     "output_type": "stream",
     "text": [
      "* * * * \n",
      "* * * * \n",
      "* * * * \n",
      "* * * * \n"
     ]
    }
   ],
   "source": [
    "for row in range(1,5):\n",
    "    for column in range(1,5):\n",
    "        print(\"*\",end=\" \")\n",
    "    print()# new line    "
   ]
  },
  {
   "cell_type": "code",
   "execution_count": 17,
   "id": "16e805c5",
   "metadata": {},
   "outputs": [
    {
     "name": "stdout",
     "output_type": "stream",
     "text": [
      "# # # # \n",
      "# # # # \n",
      "# # # # \n",
      "# # # # \n"
     ]
    }
   ],
   "source": [
    "for row in range(1,5):\n",
    "    for column in range(1,5):\n",
    "        print(\"#\",end=\" \")\n",
    "    print()# new line    "
   ]
  },
  {
   "cell_type": "code",
   "execution_count": 20,
   "id": "b71bca8d",
   "metadata": {},
   "outputs": [
    {
     "name": "stdout",
     "output_type": "stream",
     "text": [
      "* * * * * * \n",
      "* * * * * \n",
      "* * * * \n",
      "* * * \n",
      "* * \n",
      "* \n"
     ]
    }
   ],
   "source": [
    "for row in range(6,0,-1):\n",
    "    for column in range(1,row+1):\n",
    "        print(\"*\",end=\" \")\n",
    "    print()# new line        "
   ]
  },
  {
   "cell_type": "code",
   "execution_count": 24,
   "id": "ada5de91",
   "metadata": {},
   "outputs": [
    {
     "ename": "SyntaxError",
     "evalue": "invalid syntax (Temp/ipykernel_3644/1915914182.py, line 11)",
     "output_type": "error",
     "traceback": [
      "\u001b[1;36m  File \u001b[1;32m\"C:\\Users\\Lab\\AppData\\Local\\Temp/ipykernel_3644/1915914182.py\"\u001b[1;36m, line \u001b[1;32m11\u001b[0m\n\u001b[1;33m    print(num,end\" \")\u001b[0m\n\u001b[1;37m                 ^\u001b[0m\n\u001b[1;31mSyntaxError\u001b[0m\u001b[1;31m:\u001b[0m invalid syntax\n"
     ]
    }
   ],
   "source": [
    "# 1-10\n",
    "# prime numbers: 2,3,5,7\n",
    "st=int(input())\n",
    "en=int(input())\n",
    "for num in range(st,en+1): #num=1 num=2 num=3 num=4\n",
    "    c=0\n",
    "    for var in range(1,num+1):#(1,1)(2,)(1,3)(1,4)\n",
    "        if num%var==0: # factors\n",
    "            c+=1       # factors count   \n",
    "    if c==2:\n",
    "            print(num,end\" \")\n",
    "    "
   ]
  },
  {
   "cell_type": "markdown",
   "id": "3d3be001",
   "metadata": {},
   "source": [
    "### nested while\n",
    "- loop inside another loop"
   ]
  },
  {
   "cell_type": "markdown",
   "id": "86957b07",
   "metadata": {},
   "source": [
    "### syntax\n",
    "initilization\n",
    "while condition:\n",
    "    statements\n",
    "    incr/decr"
   ]
  },
  {
   "cell_type": "code",
   "execution_count": 25,
   "id": "9030f0f9",
   "metadata": {},
   "outputs": [
    {
     "name": "stdout",
     "output_type": "stream",
     "text": [
      "1 * 1 = 1\n",
      "1 * 2 = 2\n",
      "1 * 3 = 3\n",
      "1 * 4 = 4\n",
      "1 * 5 = 5\n",
      "1 * 6 = 6\n",
      "1 * 7 = 7\n",
      "1 * 8 = 8\n",
      "1 * 9 = 9\n",
      "1 * 10 = 10\n",
      "\n",
      "2 * 1 = 2\n",
      "2 * 2 = 4\n",
      "2 * 3 = 6\n",
      "2 * 4 = 8\n",
      "2 * 5 = 10\n",
      "2 * 6 = 12\n",
      "2 * 7 = 14\n",
      "2 * 8 = 16\n",
      "2 * 9 = 18\n",
      "2 * 10 = 20\n",
      "\n",
      "3 * 1 = 3\n",
      "3 * 2 = 6\n",
      "3 * 3 = 9\n",
      "3 * 4 = 12\n",
      "3 * 5 = 15\n",
      "3 * 6 = 18\n",
      "3 * 7 = 21\n",
      "3 * 8 = 24\n",
      "3 * 9 = 27\n",
      "3 * 10 = 30\n",
      "\n",
      "4 * 1 = 4\n",
      "4 * 2 = 8\n",
      "4 * 3 = 12\n",
      "4 * 4 = 16\n",
      "4 * 5 = 20\n",
      "4 * 6 = 24\n",
      "4 * 7 = 28\n",
      "4 * 8 = 32\n",
      "4 * 9 = 36\n",
      "4 * 10 = 40\n",
      "\n",
      "5 * 1 = 5\n",
      "5 * 2 = 10\n",
      "5 * 3 = 15\n",
      "5 * 4 = 20\n",
      "5 * 5 = 25\n",
      "5 * 6 = 30\n",
      "5 * 7 = 35\n",
      "5 * 8 = 40\n",
      "5 * 9 = 45\n",
      "5 * 10 = 50\n",
      "\n",
      "6 * 1 = 6\n",
      "6 * 2 = 12\n",
      "6 * 3 = 18\n",
      "6 * 4 = 24\n",
      "6 * 5 = 30\n",
      "6 * 6 = 36\n",
      "6 * 7 = 42\n",
      "6 * 8 = 48\n",
      "6 * 9 = 54\n",
      "6 * 10 = 60\n",
      "\n",
      "7 * 1 = 7\n",
      "7 * 2 = 14\n",
      "7 * 3 = 21\n",
      "7 * 4 = 28\n",
      "7 * 5 = 35\n",
      "7 * 6 = 42\n",
      "7 * 7 = 49\n",
      "7 * 8 = 56\n",
      "7 * 9 = 63\n",
      "7 * 10 = 70\n",
      "\n",
      "8 * 1 = 8\n",
      "8 * 2 = 16\n",
      "8 * 3 = 24\n",
      "8 * 4 = 32\n",
      "8 * 5 = 40\n",
      "8 * 6 = 48\n",
      "8 * 7 = 56\n",
      "8 * 8 = 64\n",
      "8 * 9 = 72\n",
      "8 * 10 = 80\n",
      "\n",
      "9 * 1 = 9\n",
      "9 * 2 = 18\n",
      "9 * 3 = 27\n",
      "9 * 4 = 36\n",
      "9 * 5 = 45\n",
      "9 * 6 = 54\n",
      "9 * 7 = 63\n",
      "9 * 8 = 72\n",
      "9 * 9 = 81\n",
      "9 * 10 = 90\n",
      "\n",
      "10 * 1 = 10\n",
      "10 * 2 = 20\n",
      "10 * 3 = 30\n",
      "10 * 4 = 40\n",
      "10 * 5 = 50\n",
      "10 * 6 = 60\n",
      "10 * 7 = 70\n",
      "10 * 8 = 80\n",
      "10 * 9 = 90\n",
      "10 * 10 = 100\n",
      "\n"
     ]
    }
   ],
   "source": [
    "# 1 to 10 tables\n",
    "i=1\n",
    "while i<=10:\n",
    "    j=1\n",
    "    while j<=10:\n",
    "        print(i,\"*\",j,\"=\",i*j)\n",
    "        j+=1\n",
    "    print()\n",
    "    i+=1"
   ]
  },
  {
   "cell_type": "markdown",
   "id": "cd342bef",
   "metadata": {},
   "source": [
    "### jump statement\n",
    "####  we called as unconditional jumps\n",
    "- break\n",
    "- continue\n",
    "- pass"
   ]
  },
  {
   "cell_type": "markdown",
   "id": "4f98159f",
   "metadata": {},
   "source": [
    "### break\n",
    "- terminates the current loop statements\n",
    "- break is a keyword"
   ]
  },
  {
   "cell_type": "code",
   "execution_count": 26,
   "id": "03bc3cad",
   "metadata": {},
   "outputs": [
    {
     "name": "stdout",
     "output_type": "stream",
     "text": [
      "p\n",
      "y\n",
      "t\n"
     ]
    }
   ],
   "source": [
    "for i in \"python\":\n",
    "    if i==\"h\":\n",
    "        break\n",
    "    print(i)    "
   ]
  },
  {
   "cell_type": "code",
   "execution_count": 27,
   "id": "62532829",
   "metadata": {},
   "outputs": [
    {
     "name": "stdout",
     "output_type": "stream",
     "text": [
      "1\n",
      "2\n",
      "3\n",
      "4\n",
      "5\n"
     ]
    }
   ],
   "source": [
    "i=1\n",
    "while(i<=10):\n",
    "        print(i)\n",
    "        i+=1\n",
    "        if(i==6):\n",
    "            break"
   ]
  },
  {
   "cell_type": "markdown",
   "id": "556a7bd1",
   "metadata": {},
   "source": [
    "### continue\n",
    "- it skips only current iteratiion and continue the next iteration\n",
    "- continue is also a keyword"
   ]
  },
  {
   "cell_type": "code",
   "execution_count": 28,
   "id": "359b3c4e",
   "metadata": {},
   "outputs": [
    {
     "name": "stdout",
     "output_type": "stream",
     "text": [
      "0\n",
      "1\n",
      "2\n",
      "3\n",
      "4\n",
      "5\n",
      "7\n",
      "8\n",
      "9\n"
     ]
    }
   ],
   "source": [
    "for i in range(10):\n",
    "    if i==6:\n",
    "        continue\n",
    "        print(\"fdp\")\n",
    "    print(i)    "
   ]
  },
  {
   "cell_type": "code",
   "execution_count": 29,
   "id": "af6c1c67",
   "metadata": {},
   "outputs": [
    {
     "name": "stdout",
     "output_type": "stream",
     "text": [
      "1 3 5 7 9 "
     ]
    }
   ],
   "source": [
    "# print odd numbers using even number count\n",
    "for i in range(1,10):\n",
    "    if i%2==0:\n",
    "        continue\n",
    "    print(i,end=\" \")    "
   ]
  },
  {
   "cell_type": "markdown",
   "id": "51fe01a9",
   "metadata": {},
   "source": [
    "### pass\n",
    "- it is a keyword\n",
    "- when we need condition sceintifically correct need to change another\n",
    "- it is a null operation\n",
    "- statement we use to creat empty classes also"
   ]
  },
  {
   "cell_type": "code",
   "execution_count": 30,
   "id": "bfc390ac",
   "metadata": {},
   "outputs": [
    {
     "name": "stdout",
     "output_type": "stream",
     "text": [
      "p\n",
      "y\n",
      "t\n",
      "pas executed\n",
      "h\n",
      "o\n",
      "n\n"
     ]
    }
   ],
   "source": [
    "s=\"python\"\n",
    "for i in s:\n",
    "    if i=='h':\n",
    "        pass\n",
    "        print(\"pas executed\")\n",
    "    print(i)    "
   ]
  },
  {
   "cell_type": "markdown",
   "id": "7ae45319",
   "metadata": {},
   "source": [
    "### strings\n",
    "- string is a group of characters\n",
    "- string is a derived datatype and immutable\n",
    "- all strings return a new values "
   ]
  },
  {
   "cell_type": "code",
   "execution_count": 31,
   "id": "a875a681",
   "metadata": {},
   "outputs": [
    {
     "name": "stdout",
     "output_type": "stream",
     "text": [
      "<class 'str'>\n"
     ]
    }
   ],
   "source": [
    "a=\"vasavi college\"\n",
    "print(type(a))"
   ]
  },
  {
   "cell_type": "code",
   "execution_count": 32,
   "id": "92d35b0a",
   "metadata": {},
   "outputs": [
    {
     "name": "stdout",
     "output_type": "stream",
     "text": [
      "14\n"
     ]
    }
   ],
   "source": [
    "print(len(a))"
   ]
  },
  {
   "cell_type": "code",
   "execution_count": 36,
   "id": "017185d3",
   "metadata": {},
   "outputs": [
    {
     "name": "stdout",
     "output_type": "stream",
     "text": [
      " \n",
      "v\n",
      "[' ', 'a', 'a', 'c', 'e', 'e', 'g', 'i', 'l', 'l', 'o', 's', 'v', 'v']\n"
     ]
    }
   ],
   "source": [
    "print(min(a))\n",
    "print(max(a))\n",
    "print(sorted(a))\n",
    "# print(sum(a))"
   ]
  },
  {
   "cell_type": "code",
   "execution_count": null,
   "id": "d10f98aa",
   "metadata": {},
   "outputs": [],
   "source": []
  },
  {
   "cell_type": "code",
   "execution_count": 37,
   "id": "1379fa6f",
   "metadata": {},
   "outputs": [
    {
     "name": "stdout",
     "output_type": "stream",
     "text": [
      "pythonworkshop\n",
      "python workshop\n"
     ]
    },
    {
     "ename": "TypeError",
     "evalue": "can't multiply sequence by non-int of type 'str'",
     "output_type": "error",
     "traceback": [
      "\u001b[1;31m---------------------------------------------------------------------------\u001b[0m",
      "\u001b[1;31mTypeError\u001b[0m                                 Traceback (most recent call last)",
      "\u001b[1;32m~\\AppData\\Local\\Temp/ipykernel_3644/1439522826.py\u001b[0m in \u001b[0;36m<module>\u001b[1;34m\u001b[0m\n\u001b[0;32m      3\u001b[0m \u001b[0mprint\u001b[0m\u001b[1;33m(\u001b[0m\u001b[0ms\u001b[0m\u001b[1;33m+\u001b[0m\u001b[0ms1\u001b[0m\u001b[1;33m)\u001b[0m\u001b[1;33m\u001b[0m\u001b[1;33m\u001b[0m\u001b[0m\n\u001b[0;32m      4\u001b[0m \u001b[0mprint\u001b[0m\u001b[1;33m(\u001b[0m\u001b[0ms\u001b[0m\u001b[1;33m,\u001b[0m\u001b[0ms1\u001b[0m\u001b[1;33m)\u001b[0m\u001b[1;33m\u001b[0m\u001b[1;33m\u001b[0m\u001b[0m\n\u001b[1;32m----> 5\u001b[1;33m \u001b[0mprint\u001b[0m\u001b[1;33m(\u001b[0m\u001b[0ms\u001b[0m\u001b[1;33m*\u001b[0m\u001b[0ms1\u001b[0m\u001b[1;33m)\u001b[0m\u001b[1;33m\u001b[0m\u001b[1;33m\u001b[0m\u001b[0m\n\u001b[0m",
      "\u001b[1;31mTypeError\u001b[0m: can't multiply sequence by non-int of type 'str'"
     ]
    }
   ],
   "source": [
    "s=\"python\"\n",
    "s1=\"workshop\"\n",
    "print(s+s1)\n",
    "print(s,s1)\n",
    "print(s*s1)"
   ]
  },
  {
   "cell_type": "code",
   "execution_count": 41,
   "id": "3209994a",
   "metadata": {},
   "outputs": [
    {
     "name": "stdout",
     "output_type": "stream",
     "text": [
      "15\n",
      "p\n",
      "n\n",
      "h\n",
      "p\n",
      "o\n",
      "python workshop\n",
      "pohskrow nohtyp\n",
      "pyth\n",
      "n works\n",
      "\n",
      "ython worksho\n"
     ]
    }
   ],
   "source": [
    "# slicing syntax::(start:end:step)\n",
    "# positive indexing(left to right)\n",
    "# negative indexing (right to left)\n",
    "s=\"python workshop\"\n",
    "print(len(s))\n",
    "print(s[0])\n",
    "print(s[5])\n",
    "print(s[12])\n",
    "print(s[-1])\n",
    "print(s[-2])\n",
    "print(s[::])\n",
    "print(s[::-1])\n",
    "print(s[0:4])\n",
    "print(s[5:12])\n",
    "print(s[-1:-5])\n",
    "print(s[-14:-1])"
   ]
  },
  {
   "cell_type": "code",
   "execution_count": null,
   "id": "278e6ad0",
   "metadata": {},
   "outputs": [],
   "source": []
  }
 ],
 "metadata": {
  "kernelspec": {
   "display_name": "Python 3 (ipykernel)",
   "language": "python",
   "name": "python3"
  },
  "language_info": {
   "codemirror_mode": {
    "name": "ipython",
    "version": 3
   },
   "file_extension": ".py",
   "mimetype": "text/x-python",
   "name": "python",
   "nbconvert_exporter": "python",
   "pygments_lexer": "ipython3",
   "version": "3.9.7"
  }
 },
 "nbformat": 4,
 "nbformat_minor": 5
}
